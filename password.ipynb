{
  "nbformat": 4,
  "nbformat_minor": 0,
  "metadata": {
    "colab": {
      "provenance": [],
      "toc_visible": true,
      "authorship_tag": "ABX9TyPceycggml6kpVKM2NhwKqc",
      "include_colab_link": true
    },
    "kernelspec": {
      "name": "python3",
      "display_name": "Python 3"
    },
    "language_info": {
      "name": "python"
    }
  },
  "cells": [
    {
      "cell_type": "markdown",
      "metadata": {
        "id": "view-in-github",
        "colab_type": "text"
      },
      "source": [
        "<a href=\"https://colab.research.google.com/github/Ankita140/contact_book/blob/main/password.ipynb\" target=\"_parent\"><img src=\"https://colab.research.google.com/assets/colab-badge.svg\" alt=\"Open In Colab\"/></a>"
      ]
    },
    {
      "cell_type": "code",
      "source": [
        "# prompt: write a python  program to generate strong password with user specified length\n",
        "\n",
        "import random\n",
        "import string\n",
        "\n",
        "def generate_password(length):\n",
        "  characters = string.ascii_letters + string.digits + string.punctuation\n",
        "  password = ''.join(random.choice(characters) for i in range(length))\n",
        "  return password\n",
        "\n",
        "desired_length = int(input(\"Enter the desired password length: \"))\n",
        "generated_password = generate_password(desired_length)\n",
        "print(\"Generated password:\", generated_password)\n"
      ],
      "metadata": {
        "id": "kt8nJDyQdfWS"
      },
      "execution_count": null,
      "outputs": []
    }
  ]
}
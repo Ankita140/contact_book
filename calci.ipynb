{
  "cells": [
    {
      "cell_type": "markdown",
      "metadata": {
        "id": "view-in-github",
        "colab_type": "text"
      },
      "source": [
        "<a href=\"https://colab.research.google.com/github/Ankita140/contact_book/blob/main/calci.ipynb\" target=\"_parent\"><img src=\"https://colab.research.google.com/assets/colab-badge.svg\" alt=\"Open In Colab\"/></a>"
      ]
    },
    {
      "cell_type": "code",
      "execution_count": null,
      "metadata": {
        "id": "5a7q0KQAX2NK"
      },
      "outputs": [],
      "source": []
    },
    {
      "cell_type": "code",
      "execution_count": null,
      "metadata": {
        "colab": {
          "background_save": true,
          "base_uri": "https://localhost:8080/"
        },
        "id": "jZdnn5FUWbzE",
        "outputId": "81a8dd09-6370-4b15-b26c-d7b7925001f3"
      },
      "outputs": [
        {
          "name": "stdout",
          "output_type": "stream",
          "text": [
            "Select operation.\n",
            "1.Add\n",
            "2.Subtract\n",
            "3.Multiply\n",
            "4.Divide\n",
            "5.Exit\n",
            "2.0 + 3.0 = 5.0\n",
            "Select operation.\n",
            "1.Add\n",
            "2.Subtract\n",
            "3.Multiply\n",
            "4.Divide\n",
            "5.Exit\n"
          ]
        }
      ],
      "source": [
        "7# prompt: write python program to design a simple calculator with repeated working until user want\n",
        "\n",
        "def add(x, y):\n",
        "  return x + y\n",
        "\n",
        "def subtract(x, y):\n",
        "  return x - y\n",
        "\n",
        "def multiply(x, y):\n",
        "  return x * y\n",
        "\n",
        "def divide(x, y):\n",
        "  return x / y\n",
        "\n",
        "while True:\n",
        "  print(\"Select operation.\")\n",
        "  print(\"1.Add\")\n",
        "  print(\"2.Subtract\")\n",
        "  print(\"3.Multiply\")\n",
        "  print(\"4.Divide\")\n",
        "  print(\"5.Exit\")\n",
        "\n",
        "  choice = input(\"Enter choice(1/2/3/4/5): \")\n",
        "\n",
        "  if choice in ('1', '2', '3', '4'):\n",
        "    num1 = float(input(\"Enter first number: \"))\n",
        "    num2 = float(input(\"Enter second number: \"))\n",
        "\n",
        "    if choice == '1':\n",
        "      print(num1, \"+\", num2, \"=\", add(num1, num2))\n",
        "\n",
        "    elif choice == '2':\n",
        "      print(num1, \"-\", num2, \"=\", subtract(num1, num2))\n",
        "\n",
        "    elif choice == '3':\n",
        "      print(num1, \"*\", num2, \"=\", multiply(num1, num2))\n",
        "\n",
        "    elif choice == '4':\n",
        "      print(num1, \"/\", num2, \"=\", divide(num1, num2))\n",
        "\n",
        "  elif choice == '5':\n",
        "    break\n",
        "\n",
        "  else:\n",
        "    print(\"Invalid Input\")\n"
      ]
    }
  ],
  "metadata": {
    "colab": {
      "provenance": [],
      "authorship_tag": "ABX9TyP2iwc8RvUURKEKMxUqb60A",
      "include_colab_link": true
    },
    "kernelspec": {
      "display_name": "Python 3",
      "name": "python3"
    },
    "language_info": {
      "name": "python"
    }
  },
  "nbformat": 4,
  "nbformat_minor": 0
}